{
 "cells": [
  {
   "cell_type": "code",
   "execution_count": 1,
   "metadata": {},
   "outputs": [],
   "source": [
    "import pandas as pd"
   ]
  },
  {
   "cell_type": "code",
   "execution_count": 7,
   "metadata": {},
   "outputs": [
    {
     "name": "stdout",
     "output_type": "stream",
     "text": [
      "CSV file has been updated and exported.\n"
     ]
    }
   ],
   "source": [
    "df = pd.read_csv('C:\\Test\\Github\\SQL - Google DA\\Data\\mturkfitbit_export_4.12.16-5.12.16\\Fitabase Data 4.12.16-5.12.16\\heartrate_seconds_merged.csv')  # Replace 'input_file.csv' with your file path\n",
    "\n",
    "# Step 2: Convert the combined date-time column (assuming it's named 'DateTime')\n",
    "df['Time'] = pd.to_datetime(df['Time'], errors='coerce')  # Convert to datetime\n",
    "\n",
    "# Step 3: Extract the date and time components into separate columns\n",
    "df['Day'] = df['Time'].dt.date  # Extract the date part\n",
    "df['Hour'] = df['Time'].dt.time  # Extract the time part\n",
    "\n",
    "# Step 4: Drop the original 'DateTime' column if you don't need it\n",
    "df = df.drop(columns=['Time'])\n",
    "\n",
    "# Step 5: Export the updated DataFrame to a new CSV\n",
    "df.to_csv('heartrate.csv', index=False)  # Replace 'output_file.csv' with your desired output path\n",
    "\n",
    "# Confirm the operation\n",
    "print(\"CSV file has been updated and exported.\")"
   ]
  },
  {
   "cell_type": "code",
   "execution_count": 10,
   "metadata": {},
   "outputs": [
    {
     "name": "stdout",
     "output_type": "stream",
     "text": [
      "CSV file has been updated and exported.\n"
     ]
    },
    {
     "name": "stderr",
     "output_type": "stream",
     "text": [
      "C:\\Users\\tc\\AppData\\Local\\Temp\\ipykernel_15284\\1694184488.py:4: UserWarning: Could not infer format, so each element will be parsed individually, falling back to `dateutil`. To ensure parsing is consistent and as-expected, please specify a format.\n",
      "  df['SleepDay'] = pd.to_datetime(df['SleepDay'], errors='coerce')  # Convert to datetime\n"
     ]
    }
   ],
   "source": [
    "df = pd.read_csv('C:\\Test\\Github\\SQL - Google DA\\Data\\mturkfitbit_export_4.12.16-5.12.16\\Fitabase Data 4.12.16-5.12.16\\sleepDay_merged.csv')  # Replace 'input_file.csv' with your file path\n",
    "\n",
    "# Step 2: Convert the combined date-time column (assuming it's named 'DateTime')\n",
    "df['SleepDay'] = pd.to_datetime(df['SleepDay'], errors='coerce')  # Convert to datetime\n",
    "\n",
    "# Step 3: Extract the date and time components into separate columns\n",
    "df['SleepDate'] = df['SleepDay'].dt.date  # Extract the date part\n",
    "df['SleepTime'] = df['SleepDay'].dt.time  # Extract the time part\n",
    "\n",
    "# Step 4: Drop the original 'DateTime' column if you don't need it\n",
    "df = df.drop(columns=['SleepDate'])\n",
    "df = df.drop(columns=['SleepTime'])\n",
    "\n",
    "# Step 5: Export the updated DataFrame to a new CSV\n",
    "df.to_csv('sleepDay.csv', index=False)  # Replace 'output_file.csv' with your desired output path\n",
    "\n",
    "# Confirm the operation\n",
    "print(\"CSV file has been updated and exported.\")"
   ]
  }
 ],
 "metadata": {
  "kernelspec": {
   "display_name": "python_course",
   "language": "python",
   "name": "python3"
  },
  "language_info": {
   "codemirror_mode": {
    "name": "ipython",
    "version": 3
   },
   "file_extension": ".py",
   "mimetype": "text/x-python",
   "name": "python",
   "nbconvert_exporter": "python",
   "pygments_lexer": "ipython3",
   "version": "3.11.11"
  }
 },
 "nbformat": 4,
 "nbformat_minor": 2
}
