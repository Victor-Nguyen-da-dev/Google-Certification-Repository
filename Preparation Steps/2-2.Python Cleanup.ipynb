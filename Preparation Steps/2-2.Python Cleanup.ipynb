{
 "cells": [
  {
   "cell_type": "code",
   "execution_count": 2,
   "metadata": {},
   "outputs": [],
   "source": [
    "import pandas as pd"
   ]
  },
  {
   "cell_type": "code",
   "execution_count": 7,
   "metadata": {},
   "outputs": [
    {
     "name": "stdout",
     "output_type": "stream",
     "text": [
      "CSV file has been updated and exported.\n"
     ]
    }
   ],
   "source": [
    "df = pd.read_csv('C:\\Test\\Github\\SQL - Google DA\\Data\\mturkfitbit_export_4.12.16-5.12.16\\Fitabase Data 4.12.16-5.12.16\\heartrate_seconds_merged.csv')  # Replace 'input_file.csv' with your file path\n",
    "\n",
    "# Step 2: Convert the combined date-time column (assuming it's named 'DateTime')\n",
    "df['Time'] = pd.to_datetime(df['Time'], errors='coerce')  # Convert to datetime\n",
    "\n",
    "# Step 3: Extract the date and time components into separate columns\n",
    "df['Day'] = df['Time'].dt.date  # Extract the date part\n",
    "df['Hour'] = df['Time'].dt.time  # Extract the time part\n",
    "\n",
    "# Step 4: Drop the original 'DateTime' column if you don't need it\n",
    "df = df.drop(columns=['Time'])\n",
    "\n",
    "# Step 5: Export the updated DataFrame to a new CSV\n",
    "df.to_csv('heartrate.csv', index=False)  # Replace 'output_file.csv' with your desired output path\n",
    "\n",
    "# Confirm the operation\n",
    "print(\"CSV file has been updated and exported.\")"
   ]
  },
  {
   "cell_type": "code",
   "execution_count": 10,
   "metadata": {},
   "outputs": [
    {
     "name": "stdout",
     "output_type": "stream",
     "text": [
      "CSV file has been updated and exported.\n"
     ]
    },
    {
     "name": "stderr",
     "output_type": "stream",
     "text": [
      "C:\\Users\\tc\\AppData\\Local\\Temp\\ipykernel_15284\\1694184488.py:4: UserWarning: Could not infer format, so each element will be parsed individually, falling back to `dateutil`. To ensure parsing is consistent and as-expected, please specify a format.\n",
      "  df['SleepDay'] = pd.to_datetime(df['SleepDay'], errors='coerce')  # Convert to datetime\n"
     ]
    }
   ],
   "source": [
    "df = pd.read_csv('C:\\Test\\Github\\SQL - Google DA\\Data\\mturkfitbit_export_4.12.16-5.12.16\\Fitabase Data 4.12.16-5.12.16\\sleepDay_merged.csv')  # Replace 'input_file.csv' with your file path\n",
    "\n",
    "# Step 2: Convert the combined date-time column (assuming it's named 'DateTime')\n",
    "df['SleepDay'] = pd.to_datetime(df['SleepDay'], errors='coerce')  # Convert to datetime\n",
    "\n",
    "# Step 3: Extract the date and time components into separate columns\n",
    "df['SleepDate'] = df['SleepDay'].dt.date  # Extract the date part\n",
    "df['SleepTime'] = df['SleepDay'].dt.time  # Extract the time part\n",
    "\n",
    "# Step 4: Drop the original 'DateTime' column if you don't need it\n",
    "df = df.drop(columns=['SleepDate'])\n",
    "df = df.drop(columns=['SleepTime'])\n",
    "\n",
    "# Step 5: Export the updated DataFrame to a new CSV\n",
    "df.to_csv('sleepDay.csv', index=False)  # Replace 'output_file.csv' with your desired output path\n",
    "\n",
    "# Confirm the operation\n",
    "print(\"CSV file has been updated and exported.\")"
   ]
  },
  {
   "cell_type": "code",
   "execution_count": 17,
   "metadata": {},
   "outputs": [],
   "source": [
    "df = pd.read_csv('C:\\Test\\Github\\SQL - Google DA\\Data\\mturkfitbit_export_4.12.16-5.12.16\\Fitabase Data 4.12.16-5.12.16\\heartrate.csv')\n",
    "\n",
    "df = df.drop(columns=['Unnamed: 4'])\n",
    "\n",
    "df.to_csv('heartrate.csv', index=False)"
   ]
  },
  {
   "cell_type": "code",
   "execution_count": 26,
   "metadata": {},
   "outputs": [
    {
     "name": "stdout",
     "output_type": "stream",
     "text": [
      "             Hour          Id\n",
      "0         7:21:00  2022484408\n",
      "1         7:21:05  2022484408\n",
      "2         7:21:10  2022484408\n",
      "3         7:21:20  2022484408\n",
      "4         7:21:25  2022484408\n",
      "...           ...         ...\n",
      "1048562  11:32:00  5553957443\n",
      "1048565  11:32:30  5553957443\n",
      "1048566  11:32:45  5553957443\n",
      "1048568  11:33:00  5553957443\n",
      "1048572  11:33:55  5553957443\n",
      "\n",
      "[176639 rows x 2 columns]\n"
     ]
    }
   ],
   "source": [
    "df = pd.read_csv('C:\\Test\\Github\\SQL - Google DA\\Data\\mturkfitbit_export_4.12.16-5.12.16\\Fitabase Data 4.12.16-5.12.16\\heartrate.csv')\n",
    "\n",
    "# Drop duplicate rows\n",
    "df_cleaned = df[['Hour', 'Id']].drop_duplicates()\n",
    "\n",
    "# Optionally, you can overwrite the original DataFrame if needed\n",
    "# df.drop_duplicates(inplace=True)\n",
    "\n",
    "# Print the cleaned DataFrame\n",
    "print(df_cleaned)\n",
    "\n",
    "# Optionally, export it to a new CSV\n",
    "df_cleaned.to_csv('heartrate_test.csv', index=False)"
   ]
  },
  {
   "cell_type": "code",
   "execution_count": 19,
   "metadata": {},
   "outputs": [
    {
     "name": "stdout",
     "output_type": "stream",
     "text": [
      "             Id   SleepDay  TotalSleepRecords  TotalMinutesAsleep  \\\n",
      "0    1503960366  4/12/2016                  1                 327   \n",
      "1    1503960366  4/13/2016                  2                 384   \n",
      "2    1503960366  4/15/2016                  1                 412   \n",
      "3    1503960366  4/16/2016                  2                 340   \n",
      "4    1503960366  4/17/2016                  1                 700   \n",
      "..          ...        ...                ...                 ...   \n",
      "408  8792009665  4/30/2016                  1                 343   \n",
      "409  8792009665   5/1/2016                  1                 503   \n",
      "410  8792009665   5/2/2016                  1                 415   \n",
      "411  8792009665   5/3/2016                  1                 516   \n",
      "412  8792009665   5/4/2016                  1                 439   \n",
      "\n",
      "     TotalTimeInBed  \n",
      "0               346  \n",
      "1               407  \n",
      "2               442  \n",
      "3               367  \n",
      "4               712  \n",
      "..              ...  \n",
      "408             360  \n",
      "409             527  \n",
      "410             423  \n",
      "411             545  \n",
      "412             463  \n",
      "\n",
      "[410 rows x 5 columns]\n"
     ]
    }
   ],
   "source": [
    "df = pd.read_csv('C:\\Test\\Github\\SQL - Google DA\\Data\\mturkfitbit_export_4.12.16-5.12.16\\Fitabase Data 4.12.16-5.12.16\\sleepDay.csv')\n",
    "\n",
    "# Drop duplicate rows\n",
    "df_cleaned = df.drop_duplicates()\n",
    "\n",
    "# Optionally, you can overwrite the original DataFrame if needed\n",
    "# df.drop_duplicates(inplace=True)\n",
    "\n",
    "# Print the cleaned DataFrame\n",
    "print(df_cleaned)\n",
    "\n",
    "# Optionally, export it to a new CSV\n",
    "df_cleaned.to_csv('sleepDay_cleaned.csv', index=False)"
   ]
  },
  {
   "cell_type": "code",
   "execution_count": 6,
   "metadata": {},
   "outputs": [],
   "source": [
    "df = pd.read_csv('C:\\Test\\Github\\SQL - Google DA\\Data\\mturkfitbit_export_4.12.16-5.12.16\\Fitabase Data 4.12.16-5.12.16\\heartrate_cleaned.csv')\n",
    "\n",
    "df = df.pivot_table(values='Value', index= ['Id', 'Day'], aggfunc='median')\n",
    "\n",
    "df = df.reset_index()\n",
    "\n",
    "df.to_csv('avgheartrate.csv', index=False)"
   ]
  }
 ],
 "metadata": {
  "kernelspec": {
   "display_name": "python_course",
   "language": "python",
   "name": "python3"
  },
  "language_info": {
   "codemirror_mode": {
    "name": "ipython",
    "version": 3
   },
   "file_extension": ".py",
   "mimetype": "text/x-python",
   "name": "python",
   "nbconvert_exporter": "python",
   "pygments_lexer": "ipython3",
   "version": "3.11.11"
  }
 },
 "nbformat": 4,
 "nbformat_minor": 2
}
